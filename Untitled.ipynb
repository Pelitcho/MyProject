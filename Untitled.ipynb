{
 "cells": [
  {
   "cell_type": "markdown",
   "id": "1ed27a28",
   "metadata": {},
   "source": [
    "# Logistic Regression"
   ]
  },
  {
   "cell_type": "code",
   "execution_count": 1,
   "id": "bf7b17f6",
   "metadata": {},
   "outputs": [],
   "source": [
    "#Activation function\n",
    "import numpy as np\n",
    "def sigmoid(z):\n",
    "    return 1/(1+np.exp(-z))"
   ]
  },
  {
   "cell_type": "code",
   "execution_count": 8,
   "id": "273469bf",
   "metadata": {},
   "outputs": [],
   "source": [
    "#initialising parameter\n",
    "def init_param(dim):\n",
    "    w = np.zeros((dim,1))\n",
    "    b = 0\n",
    "\n",
    "    assert(w.shape == (dim, 1))\n",
    "    assert(isinstance(b, float) or isinstance(b, int))\n",
    "    \n",
    "    return w, b"
   ]
  },
  {
   "cell_type": "markdown",
   "id": "70d15792",
   "metadata": {},
   "source": [
    "## Propagation"
   ]
  },
  {
   "cell_type": "code",
   "execution_count": 6,
   "id": "ede0e550",
   "metadata": {},
   "outputs": [],
   "source": [
    "#cost function\n",
    "def cost(y,a):\n",
    "    return -(y*np.log(a)+(1-y)*np.log(1-a))"
   ]
  },
  {
   "cell_type": "code",
   "execution_count": null,
   "id": "f916007d",
   "metadata": {},
   "outputs": [],
   "source": [
    "def forward(X):\n",
    "    z=w*X+b\n",
    "    a=sigmoid(z)\n",
    "    cost(y,a)"
   ]
  },
  {
   "cell_type": "code",
   "execution_count": 3,
   "id": "5b598ca5",
   "metadata": {},
   "outputs": [],
   "source": [
    "#gradient descent\n",
    "def backward(J,w,b,alpha):\n",
    "    w=w-alpha*J\n",
    "    b=b-alpha*J\n",
    "    return w,b"
   ]
  },
  {
   "cell_type": "code",
   "execution_count": null,
   "id": "3ef812fa",
   "metadata": {},
   "outputs": [],
   "source": [
    "def propagate(w,b,X,y):\n",
    "    #dimensions of vectors\n",
    "    m=X.shape[1]\n",
    "    #Forward\n",
    "    z=np.dot(w.T,X)+b\n",
    "    a=sigmoid(z)\n",
    "    cost=(1/m)*(sum(cost(y,a)))\n",
    "    \n",
    "    #Backward\n",
    "    dw=(1/m)*np.dot(X,((a-y).T))\n",
    "    db=(1/m)*sum(a-y)"
   ]
  },
  {
   "cell_type": "code",
   "execution_count": 3,
   "id": "80e0334e",
   "metadata": {},
   "outputs": [],
   "source": []
  }
 ],
 "metadata": {
  "kernelspec": {
   "display_name": "Python 3 (ipykernel)",
   "language": "python",
   "name": "python3"
  },
  "language_info": {
   "codemirror_mode": {
    "name": "ipython",
    "version": 3
   },
   "file_extension": ".py",
   "mimetype": "text/x-python",
   "name": "python",
   "nbconvert_exporter": "python",
   "pygments_lexer": "ipython3",
   "version": "3.8.5"
  }
 },
 "nbformat": 4,
 "nbformat_minor": 5
}
