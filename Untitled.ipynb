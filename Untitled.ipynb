{
 "cells": [
  {
   "cell_type": "markdown",
   "id": "1ed27a28",
   "metadata": {},
   "source": [
    "# Logistic Regression"
   ]
  },
  {
   "cell_type": "markdown",
   "id": "19db143e",
   "metadata": {},
   "source": [
    "## Initialisation of parameters"
   ]
  },
  {
   "cell_type": "code",
   "execution_count": 8,
   "id": "273469bf",
   "metadata": {},
   "outputs": [],
   "source": [
    "#initialising parameters\n",
    "def init_param(dim):\n",
    "    w = np.zeros((dim,1))\n",
    "    b = 0\n",
    "\n",
    "    assert(w.shape == (dim, 1))\n",
    "    assert(isinstance(b, float) or isinstance(b, int))\n",
    "    \n",
    "    return w, b"
   ]
  },
  {
   "cell_type": "markdown",
   "id": "a1435c15",
   "metadata": {},
   "source": [
    "## Function"
   ]
  },
  {
   "cell_type": "code",
   "execution_count": 1,
   "id": "bf7b17f6",
   "metadata": {},
   "outputs": [],
   "source": [
    "#Activation function\n",
    "import numpy as np\n",
    "def sigmoid(z):\n",
    "    return 1/(1+np.exp(-z))"
   ]
  },
  {
   "cell_type": "code",
   "execution_count": 8,
   "id": "a4d4020a",
   "metadata": {},
   "outputs": [],
   "source": [
    "#cost function\n",
    "def cost(y,a):\n",
    "    return -(y*np.log(a)+(1-y)*np.log(1-a))"
   ]
  },
  {
   "cell_type": "markdown",
   "id": "70d15792",
   "metadata": {},
   "source": [
    "## Propagation"
   ]
  },
  {
   "cell_type": "code",
   "execution_count": 16,
   "id": "54c7a323",
   "metadata": {},
   "outputs": [],
   "source": [
    "def forward(w,b,X,Y):\n",
    "    m = X.shape[1]\n",
    "    z=w*X+b\n",
    "    A =sigmoid(np.dot(w.T,X)+b)\n",
    "    cost = -np.sum(Y * np.log(A) + (1 - Y) * np.log(1 - A)) / m\n",
    "    return cost"
   ]
  },
  {
   "cell_type": "code",
   "execution_count": 10,
   "id": "afff9011",
   "metadata": {},
   "outputs": [],
   "source": [
    "#gradient descent\n",
    "def backward(J,w,b,alpha):\n",
    "    dw=(1/m)*np.dot(X,((a-y).T))\n",
    "    db=sum((((1/m) *sum(A-Y))))\n",
    "    assert(dw.shape == w.shape)\n",
    "    assert(db.dtype == float)\n",
    "    cost = np.squeeze(cost)\n",
    "    assert(cost.shape == ())\n",
    "    grads = {\"dw\": dw,\n",
    "             \"db\": db}\n",
    "    return grads, cost"
   ]
  },
  {
   "cell_type": "code",
   "execution_count": 12,
   "id": "ede0e550",
   "metadata": {},
   "outputs": [],
   "source": [
    "def update(w,b,alpha):\n",
    "    w=w-alpha*dw\n",
    "    b=b-alpha*db\n",
    "    \n",
    "    return "
   ]
  },
  {
   "cell_type": "code",
   "execution_count": null,
   "id": "f9a836a7",
   "metadata": {},
   "outputs": [],
   "source": [
    "def propagate(w, b, X, Y):\n",
    "    m = X.shape[1]\n",
    "    \n",
    "    # FORWARD PROPAGATION (FROM X TO COST)\n",
    "    A =sigmoid(np.dot(w.T,X)+b)  # compute activation\n",
    "    cost = -np.sum(Y * np.log(A) + (1 - Y) * np.log(1 - A)) / m    # compute cost\n",
    "    \n",
    "    # BACKWARD PROPAGATION (TO FIND GRAD)\n",
    "    dw = (1/m) * np.dot(X,((A-Y).T))\n",
    "    db = sum((((1/m) *sum(A-Y))))\n",
    "    \n",
    "    assert(dw.shape == w.shape)\n",
    "    assert(db.dtype == float)\n",
    "    cost = np.squeeze(cost)\n",
    "    assert(cost.shape == ())\n",
    "    \n",
    "    grads = {\"dw\": dw,\n",
    "             \"db\": db}\n",
    "    return grads, cost"
   ]
  },
  {
   "cell_type": "code",
   "execution_count": null,
   "id": "30fa2da4",
   "metadata": {},
   "outputs": [],
   "source": [
    "def optimize(w, b, X, Y, num_iterations, learning_rate, print_cost = False):    \n",
    "    costs = []\n",
    "    \n",
    "    for i in range(num_iterations):\n",
    "        \n",
    "        \n",
    "        # Cost and gradient calculation (≈ 1-4 lines of code)\n",
    "        grads, cost = propagate(w, b, X, Y)\n",
    "        \n",
    "        # Retrieve derivatives from grads\n",
    "        dw = grads[\"dw\"]\n",
    "        db = grads[\"db\"]\n",
    "        \n",
    "        # update rule (≈ 2 lines of code)\n",
    "        w = w-learning_rate*dw\n",
    "        b = b-learning_rate*db\n",
    "        \n",
    "        # Record the costs\n",
    "        if i % 100 == 0:\n",
    "            costs.append(cost)\n",
    "        \n",
    "        # Print the cost every 100 training examples\n",
    "        if print_cost and i % 100 == 0:\n",
    "            print (\"Cost after iteration %i: %f\" %(i, cost))\n",
    "    \n",
    "    params = {\"w\": w,\n",
    "              \"b\": b}\n",
    "    \n",
    "    grads = {\"dw\": dw,\n",
    "             \"db\": db}\n",
    "    \n",
    "    return params, grads, costs"
   ]
  },
  {
   "cell_type": "code",
   "execution_count": null,
   "id": "e077296c",
   "metadata": {},
   "outputs": [],
   "source": [
    "def model(X_train, Y_train, X_test, Y_test, num_iterations = 2000, learning_rate = 0.5, print_cost = False):\n",
    "    \n",
    "    # initialize parameters with zeros (≈ 1 line of code)\n",
    "    dim2 = len(X_train)\n",
    "    w, b = np.zeros((dim2,1)), 0 # COMPLETE THE LINE\n",
    "\n",
    "    # Gradient descent (≈ 1 line of code)\n",
    "    parameters, grads, costs = optimize(w, b, X_train, Y_train, num_iterations, learning_rate, print_cost = False)\n",
    "    \n",
    "    # Retrieve parameters w and b from dictionary \"parameters\"\n",
    "    w = parameters[\"w\"]\n",
    "    b = parameters[\"b\"]\n",
    "    \n",
    "    # Predict test/train set examples (≈ 2 lines of code)\n",
    "    Y_prediction_test = predict(w,b,X_test)# COMPLETE THE LINE\n",
    "    Y_prediction_train = predict(w,b,X_train)# COMPLETE THE LINE\n",
    "\n",
    "    print(w)\n",
    "    print(b)\n",
    "    print(\"train accuracy: {} %\".format(100 - np.mean(np.abs(Y_prediction_train - Y_train)) * 100))\n",
    "    print(\"test accuracy: {} %\".format(100 - np.mean(np.abs(Y_prediction_test - Y_test)) * 100))\n",
    "\n",
    "    \n",
    "    d = {\"costs\": costs,\n",
    "         \"Y_prediction_test\": Y_prediction_test, \n",
    "         \"Y_prediction_train\" : Y_prediction_train, \n",
    "         \"w\" : w, \n",
    "         \"b\" : b,\n",
    "         \"learning_rate\" : learning_rate,\n",
    "         \"num_iterations\": num_iterations}\n",
    "    \n",
    "    return d"
   ]
  }
 ],
 "metadata": {
  "kernelspec": {
   "display_name": "Python 3 (ipykernel)",
   "language": "python",
   "name": "python3"
  },
  "language_info": {
   "codemirror_mode": {
    "name": "ipython",
    "version": 3
   },
   "file_extension": ".py",
   "mimetype": "text/x-python",
   "name": "python",
   "nbconvert_exporter": "python",
   "pygments_lexer": "ipython3",
   "version": "3.8.5"
  }
 },
 "nbformat": 4,
 "nbformat_minor": 5
}
