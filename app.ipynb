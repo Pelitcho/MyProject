{
 "cells": [
  {
   "cell_type": "code",
   "execution_count": 1,
   "id": "43a21dff",
   "metadata": {},
   "outputs": [],
   "source": [
    "from flask import Flask, render_template, request"
   ]
  },
  {
   "cell_type": "code",
   "execution_count": 2,
   "id": "b62d53e4",
   "metadata": {},
   "outputs": [],
   "source": [
    "app = Flask(__name__)"
   ]
  },
  {
   "cell_type": "code",
   "execution_count": 3,
   "id": "586bd0c7",
   "metadata": {},
   "outputs": [],
   "source": [
    "@app.route('/')\n",
    "def index():\n",
    "    projects = ['projet1', 'projet2']\n",
    "    return render_template('index.html', projects=projects)"
   ]
  },
  {
   "cell_type": "code",
   "execution_count": 4,
   "id": "eac0e689",
   "metadata": {},
   "outputs": [],
   "source": [
    "@app.route('/projet1')\n",
    "def projet1():\n",
    "    # Code pour afficher les détails du projet1\n",
    "    return render_template('projet1.html')\n",
    "\n",
    "@app.route('/projet2')\n",
    "def projet2():\n",
    "    # Code pour afficher les détails du projet2\n",
    "    return render_template('projet2.html')"
   ]
  },
  {
   "cell_type": "code",
   "execution_count": null,
   "id": "ca0bced7",
   "metadata": {},
   "outputs": [],
   "source": []
  }
 ],
 "metadata": {
  "kernelspec": {
   "display_name": "Python 3 (ipykernel)",
   "language": "python",
   "name": "python3"
  },
  "language_info": {
   "codemirror_mode": {
    "name": "ipython",
    "version": 3
   },
   "file_extension": ".py",
   "mimetype": "text/x-python",
   "name": "python",
   "nbconvert_exporter": "python",
   "pygments_lexer": "ipython3",
   "version": "3.8.16"
  }
 },
 "nbformat": 4,
 "nbformat_minor": 5
}
